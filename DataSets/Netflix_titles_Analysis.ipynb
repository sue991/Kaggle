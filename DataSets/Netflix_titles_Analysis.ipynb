{
 "cells": [
  {
   "cell_type": "markdown",
   "id": "88c42f86",
   "metadata": {},
   "source": [
    "# Netflix Title"
   ]
  },
  {
   "cell_type": "code",
   "execution_count": 2,
   "id": "90784e4f",
   "metadata": {},
   "outputs": [],
   "source": [
    "import pandas as pd\n",
    "import numpy as np\n",
    "import seaborn as sns\n",
    "import matplotlib.pyplot as plt\n",
    "import missingno as msno\n",
    "import warnings\n",
    "warnings.filterwarnings(\"ignore\")"
   ]
  },
  {
   "cell_type": "markdown",
   "id": "9abccaa7",
   "metadata": {},
   "source": [
    "## 데이터 불러오기"
   ]
  },
  {
   "cell_type": "code",
   "execution_count": 3,
   "id": "0e9a30cb",
   "metadata": {},
   "outputs": [],
   "source": [
    "data = pd.read_csv(\"netflix_titles.csv\")"
   ]
  },
  {
   "cell_type": "code",
   "execution_count": 32,
   "id": "1fabf251",
   "metadata": {},
   "outputs": [
    {
     "data": {
      "text/html": [
       "<div>\n",
       "<style scoped>\n",
       "    .dataframe tbody tr th:only-of-type {\n",
       "        vertical-align: middle;\n",
       "    }\n",
       "\n",
       "    .dataframe tbody tr th {\n",
       "        vertical-align: top;\n",
       "    }\n",
       "\n",
       "    .dataframe thead th {\n",
       "        text-align: right;\n",
       "    }\n",
       "</style>\n",
       "<table border=\"1\" class=\"dataframe\">\n",
       "  <thead>\n",
       "    <tr style=\"text-align: right;\">\n",
       "      <th></th>\n",
       "      <th>show_id</th>\n",
       "      <th>type</th>\n",
       "      <th>title</th>\n",
       "      <th>director</th>\n",
       "      <th>cast</th>\n",
       "      <th>country</th>\n",
       "      <th>date_added</th>\n",
       "      <th>release_year</th>\n",
       "      <th>rating</th>\n",
       "      <th>duration</th>\n",
       "      <th>listed_in</th>\n",
       "      <th>description</th>\n",
       "    </tr>\n",
       "  </thead>\n",
       "  <tbody>\n",
       "    <tr>\n",
       "      <th>0</th>\n",
       "      <td>s1</td>\n",
       "      <td>TV Show</td>\n",
       "      <td>3%</td>\n",
       "      <td>NaN</td>\n",
       "      <td>João Miguel, Bianca Comparato, Michel Gomes, R...</td>\n",
       "      <td>Brazil</td>\n",
       "      <td>August 14, 2020</td>\n",
       "      <td>2020</td>\n",
       "      <td>TV-MA</td>\n",
       "      <td>4 Seasons</td>\n",
       "      <td>International TV Shows, TV Dramas, TV Sci-Fi &amp;...</td>\n",
       "      <td>In a future where the elite inhabit an island ...</td>\n",
       "    </tr>\n",
       "    <tr>\n",
       "      <th>1</th>\n",
       "      <td>s2</td>\n",
       "      <td>Movie</td>\n",
       "      <td>7:19</td>\n",
       "      <td>Jorge Michel Grau</td>\n",
       "      <td>Demián Bichir, Héctor Bonilla, Oscar Serrano, ...</td>\n",
       "      <td>Mexico</td>\n",
       "      <td>December 23, 2016</td>\n",
       "      <td>2016</td>\n",
       "      <td>TV-MA</td>\n",
       "      <td>93 min</td>\n",
       "      <td>Dramas, International Movies</td>\n",
       "      <td>After a devastating earthquake hits Mexico Cit...</td>\n",
       "    </tr>\n",
       "    <tr>\n",
       "      <th>2</th>\n",
       "      <td>s3</td>\n",
       "      <td>Movie</td>\n",
       "      <td>23:59</td>\n",
       "      <td>Gilbert Chan</td>\n",
       "      <td>Tedd Chan, Stella Chung, Henley Hii, Lawrence ...</td>\n",
       "      <td>Singapore</td>\n",
       "      <td>December 20, 2018</td>\n",
       "      <td>2011</td>\n",
       "      <td>R</td>\n",
       "      <td>78 min</td>\n",
       "      <td>Horror Movies, International Movies</td>\n",
       "      <td>When an army recruit is found dead, his fellow...</td>\n",
       "    </tr>\n",
       "    <tr>\n",
       "      <th>3</th>\n",
       "      <td>s4</td>\n",
       "      <td>Movie</td>\n",
       "      <td>9</td>\n",
       "      <td>Shane Acker</td>\n",
       "      <td>Elijah Wood, John C. Reilly, Jennifer Connelly...</td>\n",
       "      <td>United States</td>\n",
       "      <td>November 16, 2017</td>\n",
       "      <td>2009</td>\n",
       "      <td>PG-13</td>\n",
       "      <td>80 min</td>\n",
       "      <td>Action &amp; Adventure, Independent Movies, Sci-Fi...</td>\n",
       "      <td>In a postapocalyptic world, rag-doll robots hi...</td>\n",
       "    </tr>\n",
       "    <tr>\n",
       "      <th>4</th>\n",
       "      <td>s5</td>\n",
       "      <td>Movie</td>\n",
       "      <td>21</td>\n",
       "      <td>Robert Luketic</td>\n",
       "      <td>Jim Sturgess, Kevin Spacey, Kate Bosworth, Aar...</td>\n",
       "      <td>United States</td>\n",
       "      <td>January 1, 2020</td>\n",
       "      <td>2008</td>\n",
       "      <td>PG-13</td>\n",
       "      <td>123 min</td>\n",
       "      <td>Dramas</td>\n",
       "      <td>A brilliant group of students become card-coun...</td>\n",
       "    </tr>\n",
       "  </tbody>\n",
       "</table>\n",
       "</div>"
      ],
      "text/plain": [
       "  show_id     type  title           director  \\\n",
       "0      s1  TV Show     3%                NaN   \n",
       "1      s2    Movie   7:19  Jorge Michel Grau   \n",
       "2      s3    Movie  23:59       Gilbert Chan   \n",
       "3      s4    Movie      9        Shane Acker   \n",
       "4      s5    Movie     21     Robert Luketic   \n",
       "\n",
       "                                                cast        country  \\\n",
       "0  João Miguel, Bianca Comparato, Michel Gomes, R...         Brazil   \n",
       "1  Demián Bichir, Héctor Bonilla, Oscar Serrano, ...         Mexico   \n",
       "2  Tedd Chan, Stella Chung, Henley Hii, Lawrence ...      Singapore   \n",
       "3  Elijah Wood, John C. Reilly, Jennifer Connelly...  United States   \n",
       "4  Jim Sturgess, Kevin Spacey, Kate Bosworth, Aar...  United States   \n",
       "\n",
       "          date_added  release_year rating   duration  \\\n",
       "0    August 14, 2020          2020  TV-MA  4 Seasons   \n",
       "1  December 23, 2016          2016  TV-MA     93 min   \n",
       "2  December 20, 2018          2011      R     78 min   \n",
       "3  November 16, 2017          2009  PG-13     80 min   \n",
       "4    January 1, 2020          2008  PG-13    123 min   \n",
       "\n",
       "                                           listed_in  \\\n",
       "0  International TV Shows, TV Dramas, TV Sci-Fi &...   \n",
       "1                       Dramas, International Movies   \n",
       "2                Horror Movies, International Movies   \n",
       "3  Action & Adventure, Independent Movies, Sci-Fi...   \n",
       "4                                             Dramas   \n",
       "\n",
       "                                         description  \n",
       "0  In a future where the elite inhabit an island ...  \n",
       "1  After a devastating earthquake hits Mexico Cit...  \n",
       "2  When an army recruit is found dead, his fellow...  \n",
       "3  In a postapocalyptic world, rag-doll robots hi...  \n",
       "4  A brilliant group of students become card-coun...  "
      ]
     },
     "execution_count": 32,
     "metadata": {},
     "output_type": "execute_result"
    }
   ],
   "source": [
    "data.head()"
   ]
  },
  {
   "cell_type": "code",
   "execution_count": 33,
   "id": "944ef079",
   "metadata": {},
   "outputs": [
    {
     "name": "stdout",
     "output_type": "stream",
     "text": [
      "<class 'pandas.core.frame.DataFrame'>\n",
      "RangeIndex: 7787 entries, 0 to 7786\n",
      "Data columns (total 12 columns):\n",
      " #   Column        Non-Null Count  Dtype \n",
      "---  ------        --------------  ----- \n",
      " 0   show_id       7787 non-null   object\n",
      " 1   type          7787 non-null   object\n",
      " 2   title         7787 non-null   object\n",
      " 3   director      5398 non-null   object\n",
      " 4   cast          7069 non-null   object\n",
      " 5   country       7280 non-null   object\n",
      " 6   date_added    7777 non-null   object\n",
      " 7   release_year  7787 non-null   int64 \n",
      " 8   rating        7780 non-null   object\n",
      " 9   duration      7787 non-null   object\n",
      " 10  listed_in     7787 non-null   object\n",
      " 11  description   7787 non-null   object\n",
      "dtypes: int64(1), object(11)\n",
      "memory usage: 730.2+ KB\n"
     ]
    }
   ],
   "source": [
    "data.info()"
   ]
  },
  {
   "cell_type": "markdown",
   "id": "65000939",
   "metadata": {},
   "source": [
    "## column 정보"
   ]
  },
  {
   "cell_type": "markdown",
   "id": "8e8a3908",
   "metadata": {},
   "source": [
    "**show_id** - Unique ID for every Movie / Tv Show  \n",
    "**type** - Identifier - A Movie or TV Show   \n",
    "**title** - Title of the Movie / Tv Show   \n",
    "**director** - Director of the Movie   \n",
    "**cast** - Actors involved in the movie / show   \n",
    "**country** - Country where the movie / show was produced   \n",
    "**date_added** - Date it was added on Netflix   \n",
    "**release_year** - Actual Release year of the move / show   \n",
    "**rating** - TV Rating of the movie / show   \n",
    "**duration** - Total Duration - in minutes or number of seasons   \n",
    "**listed_in** - Genere   \n",
    "**description** - The summary description  "
   ]
  },
  {
   "cell_type": "code",
   "execution_count": 34,
   "id": "c2b47271",
   "metadata": {},
   "outputs": [
    {
     "data": {
      "text/plain": [
       "(7787, 12)"
      ]
     },
     "execution_count": 34,
     "metadata": {},
     "output_type": "execute_result"
    }
   ],
   "source": [
    "data.shape"
   ]
  },
  {
   "cell_type": "code",
   "execution_count": 35,
   "id": "4ad2b3b0",
   "metadata": {},
   "outputs": [
    {
     "data": {
      "text/plain": [
       "show_id         7787\n",
       "type               2\n",
       "title           7787\n",
       "director        4049\n",
       "cast            6831\n",
       "country          681\n",
       "date_added      1565\n",
       "release_year      73\n",
       "rating            14\n",
       "duration         216\n",
       "listed_in        492\n",
       "description     7769\n",
       "dtype: int64"
      ]
     },
     "execution_count": 35,
     "metadata": {},
     "output_type": "execute_result"
    }
   ],
   "source": [
    "data.nunique()"
   ]
  },
  {
   "cell_type": "markdown",
   "id": "a1274710",
   "metadata": {},
   "source": [
    "고유 id는 각각 하나씩 있고, 2개의 타입으로 나뉘어 있고, 제목도 전부 다르다."
   ]
  },
  {
   "cell_type": "markdown",
   "id": "bbe7a1a3",
   "metadata": {},
   "source": [
    "## null값 확인"
   ]
  },
  {
   "cell_type": "code",
   "execution_count": 36,
   "id": "012e24c7",
   "metadata": {},
   "outputs": [
    {
     "data": {
      "text/plain": [
       "show_id            0\n",
       "type               0\n",
       "title              0\n",
       "director        2389\n",
       "cast             718\n",
       "country          507\n",
       "date_added        10\n",
       "release_year       0\n",
       "rating             7\n",
       "duration           0\n",
       "listed_in          0\n",
       "description        0\n",
       "dtype: int64"
      ]
     },
     "execution_count": 36,
     "metadata": {},
     "output_type": "execute_result"
    }
   ],
   "source": [
    "data.isnull().sum()"
   ]
  },
  {
   "cell_type": "markdown",
   "id": "a25f6343",
   "metadata": {},
   "source": [
    "director, cast, country에서 몇몇 null값이 확인됨"
   ]
  },
  {
   "cell_type": "code",
   "execution_count": 37,
   "id": "bc390570",
   "metadata": {},
   "outputs": [
    {
     "data": {
      "text/plain": [
       "<AxesSubplot:>"
      ]
     },
     "execution_count": 37,
     "metadata": {},
     "output_type": "execute_result"
    },
    {
     "data": {
      "image/png": "[encoded data removed]",
      "text/plain": [
       "<Figure size 1800x720 with 2 Axes>"
      ]
     },
     "metadata": {
      "needs_background": "light"
     },
     "output_type": "display_data"
    }
   ],
   "source": [
    "msno.matrix(data)"
   ]
  },
  {
   "cell_type": "markdown",
   "id": "e76e094c",
   "metadata": {},
   "source": [
    "director와 cast, country가 확실히 많이 비어있는 것을 볼 수 있다."
   ]
  },
  {
   "cell_type": "markdown",
   "id": "17905a06",
   "metadata": {},
   "source": [
    "## Type 비율"
   ]
  },
  {
   "cell_type": "code",
   "execution_count": 38,
   "id": "ed3d8a04",
   "metadata": {},
   "outputs": [
    {
     "data": {
      "image/png": "[encoded data removed]",
      "text/plain": [
       "<Figure size 576x576 with 1 Axes>"
      ]
     },
     "metadata": {},
     "output_type": "display_data"
    }
   ],
   "source": [
    "plt.figure(figsize=(8,8))\n",
    "plt.pie(data['type'].value_counts(), ## 파이차트 출력\n",
    "       startangle=90, ## 시작점을 90도(degree)로 지정\n",
    "       counterclock=False, ## 시계 방향으로 그린다.\n",
    "       autopct=lambda p : '{:.2f}%'.format(p), ## 퍼센티지 출력\n",
    "       labels = data['type'].value_counts().index\n",
    "       )\n",
    " \n",
    "plt.show()"
   ]
  },
  {
   "cell_type": "markdown",
   "id": "90632377",
   "metadata": {},
   "source": [
    "TV show는 전체(7787개)의 데이터 중 30.95%, Movie는 69.05%임을 확인할 수 있었다."
   ]
  },
  {
   "cell_type": "code",
   "execution_count": 39,
   "id": "85196d72",
   "metadata": {},
   "outputs": [
    {
     "data": {
      "text/plain": [
       "<bound method IndexOpsMixin.value_counts of 0                     NaN\n",
       "1       Jorge Michel Grau\n",
       "2            Gilbert Chan\n",
       "3             Shane Acker\n",
       "4          Robert Luketic\n",
       "              ...        \n",
       "7782          Josef Fares\n",
       "7783          Mozez Singh\n",
       "7784                  NaN\n",
       "7785                  NaN\n",
       "7786             Sam Dunn\n",
       "Name: director, Length: 7787, dtype: object>"
      ]
     },
     "execution_count": 39,
     "metadata": {},
     "output_type": "execute_result"
    }
   ],
   "source": [
    "data.director.value_counts"
   ]
  },
  {
   "cell_type": "markdown",
   "id": "51be91c6",
   "metadata": {},
   "source": [
    "## country별 작품 수"
   ]
  },
  {
   "cell_type": "code",
   "execution_count": 40,
   "id": "81beea72",
   "metadata": {},
   "outputs": [
    {
     "data": {
      "text/plain": [
       "United States                             2555\n",
       "India                                      923\n",
       "United Kingdom                             397\n",
       "Japan                                      226\n",
       "South Korea                                183\n",
       "                                          ... \n",
       "Russia, United States                        1\n",
       "Indonesia, United Kingdom                    1\n",
       "United Kingdom, Germany, United States       1\n",
       "Argentina, United States, Mexico             1\n",
       "Spain, Portugal                              1\n",
       "Name: country, Length: 681, dtype: int64"
      ]
     },
     "execution_count": 40,
     "metadata": {},
     "output_type": "execute_result"
    }
   ],
   "source": [
    "data['country'].value_counts()"
   ]
  },
  {
   "cell_type": "code",
   "execution_count": 41,
   "id": "82f9e763",
   "metadata": {},
   "outputs": [
    {
     "data": {
      "text/plain": [
       "United States                    2555\n",
       "India                             923\n",
       "United Kingdom                    397\n",
       "Japan                             226\n",
       "South Korea                       183\n",
       "Canada                            177\n",
       "Spain                             134\n",
       "France                            115\n",
       "Egypt                             101\n",
       "Turkey                            100\n",
       "Mexico                            100\n",
       "Australia                          83\n",
       "Taiwan                             78\n",
       "Brazil                             72\n",
       "Philippines                        71\n",
       "Nigeria                            70\n",
       "Indonesia                          70\n",
       "United Kingdom, United States      64\n",
       "Germany                            61\n",
       "United States, Canada              60\n",
       "Name: country, dtype: int64"
      ]
     },
     "execution_count": 41,
     "metadata": {},
     "output_type": "execute_result"
    }
   ],
   "source": [
    "major_countries = (data['country'].value_counts())[:20]\n",
    "\n",
    "major_countries"
   ]
  },
  {
   "cell_type": "code",
   "execution_count": 42,
   "id": "596532d7",
   "metadata": {},
   "outputs": [
    {
     "data": {
      "text/plain": [
       "<AxesSubplot:>"
      ]
     },
     "execution_count": 42,
     "metadata": {},
     "output_type": "execute_result"
    },
    {
     "data": {
      "image/png": "[encoded data removed]",
      "text/plain": [
       "<Figure size 432x288 with 1 Axes>"
      ]
     },
     "metadata": {
      "needs_background": "light"
     },
     "output_type": "display_data"
    }
   ],
   "source": [
    "major_countries.plot(kind=\"bar\")\n",
    "# plt.xticks(rotation=45) "
   ]
  },
  {
   "cell_type": "markdown",
   "id": "531627d4",
   "metadata": {},
   "source": [
    "미국에서 압도적으로 많은 영화 및 쇼가 제작되었다.   \n",
    "인디아가 생각보다 높은 비율을 차지하고 있다."
   ]
  },
  {
   "cell_type": "markdown",
   "id": "bba8fe9a",
   "metadata": {},
   "source": [
    "## date_added"
   ]
  },
  {
   "cell_type": "markdown",
   "id": "24e86a30",
   "metadata": {},
   "source": [
    "datetime 변경"
   ]
  },
  {
   "cell_type": "code",
   "execution_count": 43,
   "id": "16b5984f",
   "metadata": {},
   "outputs": [
    {
     "data": {
      "text/plain": [
       "0          August 14, 2020\n",
       "1        December 23, 2016\n",
       "2        December 20, 2018\n",
       "3        November 16, 2017\n",
       "4          January 1, 2020\n",
       "               ...        \n",
       "7782      October 19, 2020\n",
       "7783         March 2, 2019\n",
       "7784    September 25, 2020\n",
       "7785      October 31, 2020\n",
       "7786         March 1, 2020\n",
       "Name: date_added, Length: 7787, dtype: object"
      ]
     },
     "execution_count": 43,
     "metadata": {},
     "output_type": "execute_result"
    }
   ],
   "source": [
    "data['date_added']"
   ]
  },
  {
   "cell_type": "code",
   "execution_count": 44,
   "id": "0940b788",
   "metadata": {},
   "outputs": [
    {
     "data": {
      "text/plain": [
       "0      2020-08-14\n",
       "1      2016-12-23\n",
       "2      2018-12-20\n",
       "3      2017-11-16\n",
       "4      2020-01-01\n",
       "          ...    \n",
       "7782   2020-10-19\n",
       "7783   2019-03-02\n",
       "7784   2020-09-25\n",
       "7785   2020-10-31\n",
       "7786   2020-03-01\n",
       "Name: date_added, Length: 7787, dtype: datetime64[ns]"
      ]
     },
     "execution_count": 44,
     "metadata": {},
     "output_type": "execute_result"
    }
   ],
   "source": [
    "data['date_added'] = pd.to_datetime(data['date_added'], errors='coerce')\n",
    "data['date_added']"
   ]
  },
  {
   "cell_type": "code",
   "execution_count": 49,
   "id": "059646ea",
   "metadata": {},
   "outputs": [],
   "source": [
    "data['date_added_year'] = data['date_added'].dt.year\n",
    "data['date_added_month'] = data['date_added'].dt.month_name()"
   ]
  },
  {
   "cell_type": "code",
   "execution_count": 50,
   "id": "3f3e2307",
   "metadata": {},
   "outputs": [
    {
     "data": {
      "text/html": [
       "<div>\n",
       "<style scoped>\n",
       "    .dataframe tbody tr th:only-of-type {\n",
       "        vertical-align: middle;\n",
       "    }\n",
       "\n",
       "    .dataframe tbody tr th {\n",
       "        vertical-align: top;\n",
       "    }\n",
       "\n",
       "    .dataframe thead th {\n",
       "        text-align: right;\n",
       "    }\n",
       "</style>\n",
       "<table border=\"1\" class=\"dataframe\">\n",
       "  <thead>\n",
       "    <tr style=\"text-align: right;\">\n",
       "      <th></th>\n",
       "      <th>show_id</th>\n",
       "      <th>type</th>\n",
       "      <th>title</th>\n",
       "      <th>director</th>\n",
       "      <th>cast</th>\n",
       "      <th>country</th>\n",
       "      <th>date_added</th>\n",
       "      <th>release_year</th>\n",
       "      <th>rating</th>\n",
       "      <th>duration</th>\n",
       "      <th>listed_in</th>\n",
       "      <th>description</th>\n",
       "      <th>date_added_month</th>\n",
       "      <th>date_added_year</th>\n",
       "    </tr>\n",
       "  </thead>\n",
       "  <tbody>\n",
       "    <tr>\n",
       "      <th>0</th>\n",
       "      <td>s1</td>\n",
       "      <td>TV Show</td>\n",
       "      <td>3%</td>\n",
       "      <td>NaN</td>\n",
       "      <td>João Miguel, Bianca Comparato, Michel Gomes, R...</td>\n",
       "      <td>Brazil</td>\n",
       "      <td>2020-08-14</td>\n",
       "      <td>2020</td>\n",
       "      <td>TV-MA</td>\n",
       "      <td>4 Seasons</td>\n",
       "      <td>International TV Shows, TV Dramas, TV Sci-Fi &amp;...</td>\n",
       "      <td>In a future where the elite inhabit an island ...</td>\n",
       "      <td>August</td>\n",
       "      <td>2020.0</td>\n",
       "    </tr>\n",
       "    <tr>\n",
       "      <th>1</th>\n",
       "      <td>s2</td>\n",
       "      <td>Movie</td>\n",
       "      <td>7:19</td>\n",
       "      <td>Jorge Michel Grau</td>\n",
       "      <td>Demián Bichir, Héctor Bonilla, Oscar Serrano, ...</td>\n",
       "      <td>Mexico</td>\n",
       "      <td>2016-12-23</td>\n",
       "      <td>2016</td>\n",
       "      <td>TV-MA</td>\n",
       "      <td>93 min</td>\n",
       "      <td>Dramas, International Movies</td>\n",
       "      <td>After a devastating earthquake hits Mexico Cit...</td>\n",
       "      <td>December</td>\n",
       "      <td>2016.0</td>\n",
       "    </tr>\n",
       "    <tr>\n",
       "      <th>2</th>\n",
       "      <td>s3</td>\n",
       "      <td>Movie</td>\n",
       "      <td>23:59</td>\n",
       "      <td>Gilbert Chan</td>\n",
       "      <td>Tedd Chan, Stella Chung, Henley Hii, Lawrence ...</td>\n",
       "      <td>Singapore</td>\n",
       "      <td>2018-12-20</td>\n",
       "      <td>2011</td>\n",
       "      <td>R</td>\n",
       "      <td>78 min</td>\n",
       "      <td>Horror Movies, International Movies</td>\n",
       "      <td>When an army recruit is found dead, his fellow...</td>\n",
       "      <td>December</td>\n",
       "      <td>2018.0</td>\n",
       "    </tr>\n",
       "    <tr>\n",
       "      <th>3</th>\n",
       "      <td>s4</td>\n",
       "      <td>Movie</td>\n",
       "      <td>9</td>\n",
       "      <td>Shane Acker</td>\n",
       "      <td>Elijah Wood, John C. Reilly, Jennifer Connelly...</td>\n",
       "      <td>United States</td>\n",
       "      <td>2017-11-16</td>\n",
       "      <td>2009</td>\n",
       "      <td>PG-13</td>\n",
       "      <td>80 min</td>\n",
       "      <td>Action &amp; Adventure, Independent Movies, Sci-Fi...</td>\n",
       "      <td>In a postapocalyptic world, rag-doll robots hi...</td>\n",
       "      <td>November</td>\n",
       "      <td>2017.0</td>\n",
       "    </tr>\n",
       "    <tr>\n",
       "      <th>4</th>\n",
       "      <td>s5</td>\n",
       "      <td>Movie</td>\n",
       "      <td>21</td>\n",
       "      <td>Robert Luketic</td>\n",
       "      <td>Jim Sturgess, Kevin Spacey, Kate Bosworth, Aar...</td>\n",
       "      <td>United States</td>\n",
       "      <td>2020-01-01</td>\n",
       "      <td>2008</td>\n",
       "      <td>PG-13</td>\n",
       "      <td>123 min</td>\n",
       "      <td>Dramas</td>\n",
       "      <td>A brilliant group of students become card-coun...</td>\n",
       "      <td>January</td>\n",
       "      <td>2020.0</td>\n",
       "    </tr>\n",
       "  </tbody>\n",
       "</table>\n",
       "</div>"
      ],
      "text/plain": [
       "  show_id     type  title           director  \\\n",
       "0      s1  TV Show     3%                NaN   \n",
       "1      s2    Movie   7:19  Jorge Michel Grau   \n",
       "2      s3    Movie  23:59       Gilbert Chan   \n",
       "3      s4    Movie      9        Shane Acker   \n",
       "4      s5    Movie     21     Robert Luketic   \n",
       "\n",
       "                                                cast        country  \\\n",
       "0  João Miguel, Bianca Comparato, Michel Gomes, R...         Brazil   \n",
       "1  Demián Bichir, Héctor Bonilla, Oscar Serrano, ...         Mexico   \n",
       "2  Tedd Chan, Stella Chung, Henley Hii, Lawrence ...      Singapore   \n",
       "3  Elijah Wood, John C. Reilly, Jennifer Connelly...  United States   \n",
       "4  Jim Sturgess, Kevin Spacey, Kate Bosworth, Aar...  United States   \n",
       "\n",
       "  date_added  release_year rating   duration  \\\n",
       "0 2020-08-14          2020  TV-MA  4 Seasons   \n",
       "1 2016-12-23          2016  TV-MA     93 min   \n",
       "2 2018-12-20          2011      R     78 min   \n",
       "3 2017-11-16          2009  PG-13     80 min   \n",
       "4 2020-01-01          2008  PG-13    123 min   \n",
       "\n",
       "                                           listed_in  \\\n",
       "0  International TV Shows, TV Dramas, TV Sci-Fi &...   \n",
       "1                       Dramas, International Movies   \n",
       "2                Horror Movies, International Movies   \n",
       "3  Action & Adventure, Independent Movies, Sci-Fi...   \n",
       "4                                             Dramas   \n",
       "\n",
       "                                         description date_added_month  \\\n",
       "0  In a future where the elite inhabit an island ...           August   \n",
       "1  After a devastating earthquake hits Mexico Cit...         December   \n",
       "2  When an army recruit is found dead, his fellow...         December   \n",
       "3  In a postapocalyptic world, rag-doll robots hi...         November   \n",
       "4  A brilliant group of students become card-coun...          January   \n",
       "\n",
       "   date_added_year  \n",
       "0           2020.0  \n",
       "1           2016.0  \n",
       "2           2018.0  \n",
       "3           2017.0  \n",
       "4           2020.0  "
      ]
     },
     "execution_count": 50,
     "metadata": {},
     "output_type": "execute_result"
    }
   ],
   "source": [
    "data.head()"
   ]
  },
  {
   "cell_type": "markdown",
   "id": "8bfc0c19",
   "metadata": {},
   "source": [
    "### 년도 별 추가된 작품 수"
   ]
  },
  {
   "cell_type": "code",
   "execution_count": 77,
   "id": "cc26faea",
   "metadata": {},
   "outputs": [
    {
     "data": {
      "text/plain": [
       "<AxesSubplot:xlabel='date_added_year', ylabel='count'>"
      ]
     },
     "execution_count": 77,
     "metadata": {},
     "output_type": "execute_result"
    },
    {
     "data": {
      "image/png": "[encoded data removed]",
      "text/plain": [
       "<Figure size 720x360 with 1 Axes>"
      ]
     },
     "metadata": {
      "needs_background": "light"
     },
     "output_type": "display_data"
    }
   ],
   "source": [
    "plt.figure(figsize=(10,5))\n",
    "sns.countplot('date_added_year', data=data)"
   ]
  },
  {
   "cell_type": "markdown",
   "id": "d8e5e9e9",
   "metadata": {},
   "source": [
    "넷플릭스가 흥행할때 쯤? 많은 작품이 추가된 것 같다."
   ]
  },
  {
   "cell_type": "markdown",
   "id": "8fe62145",
   "metadata": {},
   "source": [
    "## 달 별 추가된 작품 수"
   ]
  },
  {
   "cell_type": "code",
   "execution_count": 76,
   "id": "fd1e34ed",
   "metadata": {},
   "outputs": [
    {
     "data": {
      "text/plain": [
       "<AxesSubplot:xlabel='date_added_month', ylabel='count'>"
      ]
     },
     "execution_count": 76,
     "metadata": {},
     "output_type": "execute_result"
    },
    {
     "data": {
      "image/png": "[encoded data removed]",
      "text/plain": [
       "<Figure size 864x360 with 1 Axes>"
      ]
     },
     "metadata": {
      "needs_background": "light"
     },
     "output_type": "display_data"
    }
   ],
   "source": [
    "plt.figure(figsize=(12,5))\n",
    "sns.countplot('date_added_month', data=data)"
   ]
  },
  {
   "cell_type": "markdown",
   "id": "91b4939c",
   "metadata": {},
   "source": [
    "연말, 연초에 많은 작품들이 추가되었다."
   ]
  },
  {
   "cell_type": "code",
   "execution_count": 120,
   "id": "2d1fea88",
   "metadata": {},
   "outputs": [
    {
     "data": {
      "text/plain": [
       "<AxesSubplot:xlabel='date_added_month', ylabel='date_added_year'>"
      ]
     },
     "execution_count": 120,
     "metadata": {},
     "output_type": "execute_result"
    },
    {
     "data": {
      "image/png": "[encoded data removed]",
      "text/plain": [
       "<Figure size 720x576 with 2 Axes>"
      ]
     },
     "metadata": {
      "needs_background": "light"
     },
     "output_type": "display_data"
    }
   ],
   "source": [
    "releases = data[['date_added_month','date_added_year']].dropna()\n",
    "month_name = ['January', 'February', 'March', 'April', 'May', 'June', 'August', 'September', 'October', 'November', 'December']\n",
    "\n",
    "plt.figure(figsize=(10,8))\n",
    "Hmap = releases.groupby('date_added_year')['date_added_month'].value_counts().unstack().fillna(0)[column_order] #matrix로 변경\n",
    "\n",
    "\n",
    "sns.heatmap(Hmap, linewidths=.7,cmap=\"YlGnBu\")"
   ]
  },
  {
   "cell_type": "markdown",
   "id": "64e21ae8",
   "metadata": {},
   "source": [
    "2019년 11월에 가장 많은 작품이 넷플릭스에 등록되었다."
   ]
  },
  {
   "cell_type": "markdown",
   "id": "ee4a2118",
   "metadata": {},
   "source": [
    "## release year"
   ]
  },
  {
   "cell_type": "code",
   "execution_count": 75,
   "id": "c06a2d21",
   "metadata": {},
   "outputs": [
    {
     "data": {
      "text/plain": [
       "(array([ 0,  1,  2,  3,  4,  5,  6,  7,  8,  9, 10, 11, 12, 13, 14, 15, 16,\n",
       "        17, 18, 19, 20, 21, 22, 23, 24, 25, 26, 27, 28, 29, 30, 31, 32, 33,\n",
       "        34, 35, 36, 37, 38, 39, 40, 41, 42, 43, 44, 45, 46, 47, 48, 49, 50,\n",
       "        51, 52, 53, 54, 55, 56, 57, 58, 59, 60, 61, 62, 63, 64, 65, 66, 67,\n",
       "        68, 69, 70, 71, 72]),\n",
       " [Text(0, 0, '1925'),\n",
       "  Text(1, 0, '1942'),\n",
       "  Text(2, 0, '1943'),\n",
       "  Text(3, 0, '1944'),\n",
       "  Text(4, 0, '1945'),\n",
       "  Text(5, 0, '1946'),\n",
       "  Text(6, 0, '1947'),\n",
       "  Text(7, 0, '1954'),\n",
       "  Text(8, 0, '1955'),\n",
       "  Text(9, 0, '1956'),\n",
       "  Text(10, 0, '1958'),\n",
       "  Text(11, 0, '1959'),\n",
       "  Text(12, 0, '1960'),\n",
       "  Text(13, 0, '1962'),\n",
       "  Text(14, 0, '1963'),\n",
       "  Text(15, 0, '1964'),\n",
       "  Text(16, 0, '1965'),\n",
       "  Text(17, 0, '1966'),\n",
       "  Text(18, 0, '1967'),\n",
       "  Text(19, 0, '1968'),\n",
       "  Text(20, 0, '1969'),\n",
       "  Text(21, 0, '1970'),\n",
       "  Text(22, 0, '1971'),\n",
       "  Text(23, 0, '1972'),\n",
       "  Text(24, 0, '1973'),\n",
       "  Text(25, 0, '1974'),\n",
       "  Text(26, 0, '1975'),\n",
       "  Text(27, 0, '1976'),\n",
       "  Text(28, 0, '1977'),\n",
       "  Text(29, 0, '1978'),\n",
       "  Text(30, 0, '1979'),\n",
       "  Text(31, 0, '1980'),\n",
       "  Text(32, 0, '1981'),\n",
       "  Text(33, 0, '1982'),\n",
       "  Text(34, 0, '1983'),\n",
       "  Text(35, 0, '1984'),\n",
       "  Text(36, 0, '1985'),\n",
       "  Text(37, 0, '1986'),\n",
       "  Text(38, 0, '1987'),\n",
       "  Text(39, 0, '1988'),\n",
       "  Text(40, 0, '1989'),\n",
       "  Text(41, 0, '1990'),\n",
       "  Text(42, 0, '1991'),\n",
       "  Text(43, 0, '1992'),\n",
       "  Text(44, 0, '1993'),\n",
       "  Text(45, 0, '1994'),\n",
       "  Text(46, 0, '1995'),\n",
       "  Text(47, 0, '1996'),\n",
       "  Text(48, 0, '1997'),\n",
       "  Text(49, 0, '1998'),\n",
       "  Text(50, 0, '1999'),\n",
       "  Text(51, 0, '2000'),\n",
       "  Text(52, 0, '2001'),\n",
       "  Text(53, 0, '2002'),\n",
       "  Text(54, 0, '2003'),\n",
       "  Text(55, 0, '2004'),\n",
       "  Text(56, 0, '2005'),\n",
       "  Text(57, 0, '2006'),\n",
       "  Text(58, 0, '2007'),\n",
       "  Text(59, 0, '2008'),\n",
       "  Text(60, 0, '2009'),\n",
       "  Text(61, 0, '2010'),\n",
       "  Text(62, 0, '2011'),\n",
       "  Text(63, 0, '2012'),\n",
       "  Text(64, 0, '2013'),\n",
       "  Text(65, 0, '2014'),\n",
       "  Text(66, 0, '2015'),\n",
       "  Text(67, 0, '2016'),\n",
       "  Text(68, 0, '2017'),\n",
       "  Text(69, 0, '2018'),\n",
       "  Text(70, 0, '2019'),\n",
       "  Text(71, 0, '2020'),\n",
       "  Text(72, 0, '2021')])"
      ]
     },
     "execution_count": 75,
     "metadata": {},
     "output_type": "execute_result"
    },
    {
     "data": {
      "image/png": "[encoded data removed]",
      "text/plain": [
       "<Figure size 1800x360 with 1 Axes>"
      ]
     },
     "metadata": {
      "needs_background": "light"
     },
     "output_type": "display_data"
    }
   ],
   "source": [
    "plt.figure(figsize=(25,5))\n",
    "sns.countplot('release_year', data=data)\n",
    "plt.xticks(rotation=45)"
   ]
  },
  {
   "cell_type": "markdown",
   "id": "182cde37",
   "metadata": {},
   "source": [
    "비교적 최근 발매된 영화 및 TV쇼가 많다."
   ]
  },
  {
   "cell_type": "markdown",
   "id": "8f3870d7",
   "metadata": {},
   "source": [
    "## rating"
   ]
  },
  {
   "cell_type": "code",
   "execution_count": 4,
   "id": "ba6b91c1",
   "metadata": {},
   "outputs": [
    {
     "data": {
      "text/plain": [
       "TV-MA       2863\n",
       "TV-14       1931\n",
       "TV-PG        806\n",
       "R            665\n",
       "PG-13        386\n",
       "TV-Y         280\n",
       "TV-Y7        271\n",
       "PG           247\n",
       "TV-G         194\n",
       "NR            84\n",
       "G             39\n",
       "TV-Y7-FV       6\n",
       "UR             5\n",
       "NC-17          3\n",
       "Name: rating, dtype: int64"
      ]
     },
     "execution_count": 4,
     "metadata": {},
     "output_type": "execute_result"
    }
   ],
   "source": [
    "data['rating'].value_counts()"
   ]
  },
  {
   "cell_type": "markdown",
   "id": "3f2d7d8c",
   "metadata": {},
   "source": [
    "**TV**\n",
    "- TV-MA : 18세 이상\n",
    "- TV-14 : 16세 이상\n",
    "- TV-PG : 7세 이상\n",
    "- TV-Y : 전체\n",
    "- TV-Y7 : 7세 이상\n",
    "- TV-G : 전체\n",
    "- TV-Y7-FV : 7세이상\n",
    "\n",
    "**영화**\n",
    "- R : 청불(18세 이상)\n",
    "- PG-13 : 13세 이상\n",
    "- PG : 7세 이상\n",
    "- G: 전체\n",
    "- NC-17 : 청불"
   ]
  },
  {
   "cell_type": "code",
   "execution_count": 6,
   "id": "b94d7ddf",
   "metadata": {},
   "outputs": [
    {
     "data": {
      "text/plain": [
       "<AxesSubplot:xlabel='rating', ylabel='count'>"
      ]
     },
     "execution_count": 6,
     "metadata": {},
     "output_type": "execute_result"
    },
    {
     "data": {
      "image/png": "[encoded data removed]",
      "text/plain": [
       "<Figure size 720x360 with 1 Axes>"
      ]
     },
     "metadata": {
      "needs_background": "light"
     },
     "output_type": "display_data"
    }
   ],
   "source": [
    "plt.figure(figsize=(10,5))\n",
    "sns.countplot('rating', data=data)"
   ]
  },
  {
   "cell_type": "markdown",
   "id": "bb5ebf5d",
   "metadata": {},
   "source": [
    "## listed_in"
   ]
  },
  {
   "cell_type": "markdown",
   "id": "1205207f",
   "metadata": {},
   "source": [
    "장르.   \n",
    "\n",
    "영화와 TV Show를 나눠서 판단"
   ]
  },
  {
   "cell_type": "code",
   "execution_count": 10,
   "id": "4eff9798",
   "metadata": {},
   "outputs": [],
   "source": [
    "movies = data[data['type'] == 'Movie']\n",
    "tv_shows = data[data['type'] == 'TV Show']"
   ]
  },
  {
   "cell_type": "markdown",
   "id": "1dda0651",
   "metadata": {},
   "source": [
    "### Movie Genre"
   ]
  },
  {
   "cell_type": "code",
   "execution_count": 32,
   "id": "2873aa37",
   "metadata": {},
   "outputs": [
    {
     "data": {
      "text/plain": [
       "<AxesSubplot:xlabel='count', ylabel='genre'>"
      ]
     },
     "execution_count": 32,
     "metadata": {},
     "output_type": "execute_result"
    },
    {
     "data": {
      "image/png": "[encoded data removed]",
      "text/plain": [
       "<Figure size 576x360 with 1 Axes>"
      ]
     },
     "metadata": {
      "needs_background": "light"
     },
     "output_type": "display_data"
    }
   ],
   "source": [
    "from collections import Counter\n",
    "\n",
    "genres = \", \".join(movies['listed_in']).split(\", \")\n",
    "top_genres = Counter(genres).most_common(15)\n",
    "\n",
    "genre = [_[0] for _ in top_genres]\n",
    "count = [_[1] for _ in top_genres]\n",
    "\n",
    "df_genres = pd.DataFrame({ 'genre': genre, 'count': count })\n",
    "\n",
    "plt.figure(figsize=(8,5))\n",
    "sns.barplot('count','genre',data=df_genres)"
   ]
  },
  {
   "cell_type": "markdown",
   "id": "bbb119a9",
   "metadata": {},
   "source": [
    "영화 장르 상위 15개"
   ]
  },
  {
   "cell_type": "code",
   "execution_count": 34,
   "id": "dd1f93a6",
   "metadata": {},
   "outputs": [
    {
     "data": {
      "text/plain": [
       "<AxesSubplot:xlabel='count', ylabel='genre'>"
      ]
     },
     "execution_count": 34,
     "metadata": {},
     "output_type": "execute_result"
    },
    {
     "data": {
      "image/png": "[encoded data removed]",
      "text/plain": [
       "<Figure size 576x360 with 1 Axes>"
      ]
     },
     "metadata": {
      "needs_background": "light"
     },
     "output_type": "display_data"
    }
   ],
   "source": [
    "tv_genres = \", \".join(tv_shows['listed_in']).split(\", \")\n",
    "tv_top_genres = Counter(tv_genres).most_common(15)\n",
    "\n",
    "tv_genre = [_[0] for _ in tv_top_genres]\n",
    "tv_count = [_[1] for _ in tv_top_genres]\n",
    "\n",
    "df_tvgenres = pd.DataFrame({ 'genre': tv_genre, 'count': tv_count })\n",
    "\n",
    "plt.figure(figsize=(8,5))\n",
    "sns.barplot('count','genre',data=df_tvgenres)"
   ]
  },
  {
   "cell_type": "markdown",
   "id": "7d9d7787",
   "metadata": {},
   "source": [
    "## duration"
   ]
  },
  {
   "cell_type": "markdown",
   "id": "7825fa0b",
   "metadata": {},
   "source": [
    "잘 모르겠다."
   ]
  }
 ],
 "metadata": {
  "kernelspec": {
   "display_name": "Python 3",
   "language": "python",
   "name": "python3"
  },
  "language_info": {
   "codemirror_mode": {
    "name": "ipython",
    "version": 3
   },
   "file_extension": ".py",
   "mimetype": "text/x-python",
   "name": "python",
   "nbconvert_exporter": "python",
   "pygments_lexer": "ipython3",
   "version": "3.8.8"
  }
 },
 "nbformat": 4,
 "nbformat_minor": 5
}
